{
  "cells": [
    {
      "cell_type": "markdown",
      "metadata": {},
      "source": [
        "\n# TropOMI/CMAQ L3\n\nThis script is designed to create a CMAQ L3 file including alternative TropOMI\nNO2 using the CMAQ AMF.\n\nIt assumes that you have a 3D CMAQ CONC file, the METCRO3D file, and a TropOMI\nNO2 custom L3 file. The TropOMI custom L3 file is created in the TropOMI L3\nOpenDAP example. For the 3D CONC or METCRO3D, there are two options.\n\nFor CONC and METCRO3D, you can either use your own data or download data from\nthe EPA's Air QUAlity TimE Series (`EQUATES`_) Project. The EQUATES project is\navailable through EPA's Remote Sensing Information Gateway (RSIG) data archive.\nRSIG data is served one variable at a time, so you will have four files: (1) 3D\nCONC file and (3) METCRO3D files -- DENS, ZF, and PRES. The links below are each\napproximately 1 GB in size and must be saved using the names suggested.\n\n* Download CMAQ CONC3D `NO2`_ and save as `CCTM_CONC_2019-07-24_12US1.nc`\n* Download METCRO3D `PRES`_ and save as `METCRO3D_PRES_2019-07-24_12US1.nc`\n* Download METCRO3D `DENS`_ and save as `METCRO3D_DENS_2019-07-24_12US1.nc`\n* Download METCRO3D `ZF`_ and save as `METCRO3D_ZF_2019-07-24_12US1.nc`\n\n"
      ]
    },
    {
      "cell_type": "markdown",
      "metadata": {},
      "source": [
        "## Import Library and Configure\n\n"
      ]
    },
    {
      "cell_type": "code",
      "execution_count": null,
      "metadata": {
        "collapsed": false
      },
      "outputs": [],
      "source": [
        "import cmaqsatproc as csp\nimport xarray as xr\n\n# Using common EPA Lambert Conic Conformal 12-km grid\nGDNAM = '12US1'\n# Doing just one day\ndate='2019-07-24'\n# Using TropOMINO2 reader\nreadername = 'TropOMINO2'\n# Defining output path\noutpath = f'{readername}_{date}_{GDNAM}_CMAQ.nc'"
      ]
    },
    {
      "cell_type": "markdown",
      "metadata": {},
      "source": [
        "## Gather Data and Processors\n\n"
      ]
    },
    {
      "cell_type": "code",
      "execution_count": null,
      "metadata": {
        "collapsed": false
      },
      "outputs": [],
      "source": [
        "# Get satellite reader\nsatreader = csp.reader_dict[readername]\n# Get custom L3 file made earlier\nl3 = xr.open_dataset(f'{readername}_{date}_{GDNAM}.nc')\n\n# Open a CMAQ 3D CONC file that has the NO2 variable.\nqf = csp.open_ioapi(f'CCTM_CONC_{date}_{GDNAM}.nc')[['NO2']]\n\n# Open a single METCRO3D file or separate files if downloaded from RSIG.\n# Defaulting to separate files\npresf = csp.open_ioapi(f'METCRO3D_PRES_{date}_{GDNAM}.nc')\ndensf = csp.open_ioapi(f'METCRO3D_DENS_{date}_{GDNAM}.nc')\nzff = csp.open_ioapi(f'METCRO3D_ZF_{date}_{GDNAM}.nc')\n\n# Combine DENS, ZF and PRES from METCRO3D files (or file) with CONC\nqf['DENS'] = densf['DENS']\nqf['ZF'] = zff['ZF']\nqf['PRES'] = presf['PRES']\n\n# Create satellite according to CMAQ, and CMAQ according to satellite\noverf = satreader.cmaq_process(qf, l3)\noverf.to_netcdf(outpath)"
      ]
    }
  ],
  "metadata": {
    "kernelspec": {
      "display_name": "Python 3",
      "language": "python",
      "name": "python3"
    },
    "language_info": {
      "codemirror_mode": {
        "name": "ipython",
        "version": 3
      },
      "file_extension": ".py",
      "mimetype": "text/x-python",
      "name": "python",
      "nbconvert_exporter": "python",
      "pygments_lexer": "ipython3",
      "version": "3.13.5"
    }
  },
  "nbformat": 4,
  "nbformat_minor": 0
}