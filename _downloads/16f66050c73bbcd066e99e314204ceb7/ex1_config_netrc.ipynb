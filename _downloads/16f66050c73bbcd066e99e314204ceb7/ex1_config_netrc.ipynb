{
  "cells": [
    {
      "cell_type": "markdown",
      "metadata": {},
      "source": [
        "\n# Configure OpenDAP\n\nThis script is designed to create create a .netrc, .dodsrc, and .urs_cookies\nif those files do not yet exist. All files will be created in the user's home\ndirectory. The .netrc file must contain a valid EarthData login and password.\nThe file will be created as read/write for user only to avoid revealing your\npassword to others.\n"
      ]
    },
    {
      "cell_type": "markdown",
      "metadata": {},
      "source": [
        "## Get Paths for Files to Create\n\n"
      ]
    },
    {
      "cell_type": "code",
      "execution_count": null,
      "metadata": {
        "collapsed": false
      },
      "outputs": [],
      "source": [
        "import os\nimport getpass\n\nnetrcpath = os.path.expanduser('~/.netrc')\ncookiespath = os.path.expanduser('~/.urs_cookies')\ndodsrcpath = os.path.expanduser('~/.dodsrc')\n\n# Make ~/.netrc with w/r for user only.\n# Contents will be \nif os.path.exists(netrcpath):\n    print(netrcpath + ' exists; delete to remake')\nelse:\n    with open(netrcpath, 'w') as outf:\n        outf.write('')\n    os.chmod(netrcpath, 0x600)\n    with open(netrcpath, 'w') as outf:\n        outf.seek(0, 2)\n        outf.write(f\"\"\"\nmachine urs.earthdata.nasa.gov\n  login {getpass.getpass('URS User:')}\n  password {getpass.getpass('URS Password:')}\n\"\"\")\n\nif os.path.exists(cookiespath):\n    print(cookiespath + ' exists; delete to remake')\nelse:\n    with open(cookiespath, 'w') as outf:\n        outf.write('')\n\nif os.path.exists(dodsrcpath):\n    print(dodsrcpath + ' exists; delete to remake')\nelse:\n    with open(dodsrcpath, 'w') as outf:\n        outf.write(f\"\"\"HTTP.NETRC={netrcpath}\nHTTP.COOKIEJAR={cookiespath}\n\"\"\")"
      ]
    }
  ],
  "metadata": {
    "kernelspec": {
      "display_name": "Python 3",
      "language": "python",
      "name": "python3"
    },
    "language_info": {
      "codemirror_mode": {
        "name": "ipython",
        "version": 3
      },
      "file_extension": ".py",
      "mimetype": "text/x-python",
      "name": "python",
      "nbconvert_exporter": "python",
      "pygments_lexer": "ipython3",
      "version": "3.13.5"
    }
  },
  "nbformat": 4,
  "nbformat_minor": 0
}