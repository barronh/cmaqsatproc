{
  "cells": [
    {
      "cell_type": "markdown",
      "metadata": {},
      "source": [
        "\n# TropOMI L3 OpenDAP\n\nThis script is designed to create a custom L3 file from TropOMI NO2 files\nstreamed remotely from an OpenDAP server. Because it uses OpenDAP, you must\nhave first configured your `.netrc`, `.urs_cookies`, and `.dodsrc`. \n\nThis example can be edited to work with TropOMI HCHO, VIIRS_AERDB, OMNO2,\nOMHCHO, ..., etc.\n"
      ]
    },
    {
      "cell_type": "markdown",
      "metadata": {},
      "source": [
        "## Import Library and Configure\n\n"
      ]
    },
    {
      "cell_type": "code",
      "execution_count": null,
      "metadata": {
        "collapsed": false
      },
      "outputs": [],
      "source": [
        "import cmaqsatproc as csp\n\n# Using common EPA Lambert Conic Conformal 12-km grid\nGDNAM = '12US1'\n# Doing just one day\ndate='2019-07-24'\n# Using TropOMINO2 reader\nreadername = 'TropOMINO2' # or TropOMIHCHO, VIIRS_AERDB, ...\n# Defining output path\noutpath = f'{readername}_{date}_{GDNAM}.nc'"
      ]
    },
    {
      "cell_type": "markdown",
      "metadata": {},
      "source": [
        "## Use NASA's CMR to find and process files\n\n"
      ]
    },
    {
      "cell_type": "code",
      "execution_count": null,
      "metadata": {
        "collapsed": false
      },
      "outputs": [],
      "source": [
        "# Get a CMAQ grid definition\ncg = csp.open_griddesc(GDNAM)\n# Get the Satellite Reader object\nsatreader = csp.reader_dict[readername]\n# Use CMAQ grid definition and date to drive cmr query\nl3 = satreader.cmr_to_level3(\n    temporal=f'{date}T00:00:00Z/{date}T23:59:59Z',\n    bbox=cg.csp.bbox(), grid=cg.csp.geodf, verbose=9\n)\n# Save file to disk\nl3.to_netcdf(outpath)"
      ]
    }
  ],
  "metadata": {
    "kernelspec": {
      "display_name": "Python 3",
      "language": "python",
      "name": "python3"
    },
    "language_info": {
      "codemirror_mode": {
        "name": "ipython",
        "version": 3
      },
      "file_extension": ".py",
      "mimetype": "text/x-python",
      "name": "python",
      "nbconvert_exporter": "python",
      "pygments_lexer": "ipython3",
      "version": "3.13.5"
    }
  },
  "nbformat": 4,
  "nbformat_minor": 0
}