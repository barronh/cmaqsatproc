{
  "cells": [
    {
      "cell_type": "markdown",
      "metadata": {},
      "source": [
        "\n# VIIRS L3 Local Disk\n\nThis script is designed to make custom L3 files from SNPP VIIRS Deep Blue\nusing files that have already been downloaded to local disk. This example\ncan be edited to work with TropOMI HCHO, VIIRS_AERDB, OMNO2, OMHCHO, ...\n\nThis example assumes you have downloaded satellite files. The code is largely\nthe same as the previous. Instead of `cmr_to_level3`, it the method uses `glob`\nto make a list of files that it passes to `paths_to_level3`.\n"
      ]
    },
    {
      "cell_type": "markdown",
      "metadata": {},
      "source": [
        "## Import Library and Configure\n\n"
      ]
    },
    {
      "cell_type": "code",
      "execution_count": null,
      "metadata": {
        "collapsed": false
      },
      "outputs": [],
      "source": [
        "from glob import glob\nimport cmaqsatproc as csp\n\nGDNAM = '12US1'\ndate='2019-07-24'\nreadername = 'VIIRS_AERDB' # or TropOMIHCHO, VIIRS_AERDB, ...\noutpath = f'{readername}_{date}_{GDNAM}.nc'\n\ncg = csp.open_griddesc(GDNAM)\nsatreader = csp.reader_dict[readername]\n\npaths = sorted(glob('AERDB_L2_VIIRS_SNPP*.nc'))\nl3 = satreader.paths_to_level3(\n    paths, bbox=cg.csp.bbox(), grid=cg.csp.geodf, verbose=9\n)\nl3.to_netcdf(outpath)"
      ]
    }
  ],
  "metadata": {
    "kernelspec": {
      "display_name": "Python 3",
      "language": "python",
      "name": "python3"
    },
    "language_info": {
      "codemirror_mode": {
        "name": "ipython",
        "version": 3
      },
      "file_extension": ".py",
      "mimetype": "text/x-python",
      "name": "python",
      "nbconvert_exporter": "python",
      "pygments_lexer": "ipython3",
      "version": "3.13.5"
    }
  },
  "nbformat": 4,
  "nbformat_minor": 0
}